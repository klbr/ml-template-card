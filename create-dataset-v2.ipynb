{
 "cells": [
  {
   "cell_type": "code",
   "execution_count": 1,
   "metadata": {},
   "outputs": [],
   "source": [
    "import glob"
   ]
  },
  {
   "cell_type": "code",
   "execution_count": 2,
   "metadata": {},
   "outputs": [],
   "source": [
    "files_a = glob.glob('./data/raw-dataset/A/**/*.png', recursive=True)\n",
    "files_b = glob.glob('./data/raw-dataset/B/**/*.png', recursive=True)\n",
    "files_c = glob.glob('./data/raw-dataset/C/**/*.png', recursive=True)\n",
    "files_d = glob.glob('./data/raw-dataset/D/**/*.png', recursive=True)\n",
    "files_e = glob.glob('./data/raw-dataset/E/**/*.png', recursive=True)\n",
    "files_v = glob.glob('./data/raw-dataset/V/**/*.png', recursive=True)"
   ]
  },
  {
   "cell_type": "code",
   "execution_count": 3,
   "metadata": {},
   "outputs": [],
   "source": [
    "import cv2\n",
    "import numpy as np"
   ]
  },
  {
   "cell_type": "code",
   "execution_count": 4,
   "metadata": {},
   "outputs": [],
   "source": [
    "images_a, images_b, images_c, images_d, images_e, images_v = [], [], [], [], [], []\n",
    "\n",
    "for i in range(1200):\n",
    "    images_a.append(cv2.imread(files_a[i], cv2.IMREAD_GRAYSCALE))\n",
    "    images_b.append(cv2.imread(files_b[i], cv2.IMREAD_GRAYSCALE))\n",
    "    images_c.append(cv2.imread(files_c[i], cv2.IMREAD_GRAYSCALE))\n",
    "    images_d.append(cv2.imread(files_d[i], cv2.IMREAD_GRAYSCALE))\n",
    "    images_e.append(cv2.imread(files_e[i], cv2.IMREAD_GRAYSCALE))\n",
    "    images_v.append(cv2.imread(files_v[i], cv2.IMREAD_GRAYSCALE))\n",
    "    \n",
    "labels = []\n",
    "for i in range(6):\n",
    "    for v in range(1200):\n",
    "        labels.append(i)"
   ]
  },
  {
   "cell_type": "code",
   "execution_count": 5,
   "metadata": {},
   "outputs": [],
   "source": [
    "data = np.array(images_v + images_a + images_b + images_c + images_d + images_e)\n",
    "labels = np.array(labels)\n",
    "\n",
    "np.savez('./data/dataset-v2.npz', data=data, labels=labels)  "
   ]
  },
  {
   "cell_type": "code",
   "execution_count": 6,
   "metadata": {},
   "outputs": [],
   "source": [
    "dataset = np.load('./data/dataset-v2.npz')"
   ]
  },
  {
   "cell_type": "code",
   "execution_count": 7,
   "metadata": {},
   "outputs": [
    {
     "data": {
      "text/plain": [
       "(7200, 50, 370)"
      ]
     },
     "execution_count": 7,
     "metadata": {},
     "output_type": "execute_result"
    }
   ],
   "source": [
    "dataset['data'].shape"
   ]
  },
  {
   "cell_type": "code",
   "execution_count": 8,
   "metadata": {},
   "outputs": [
    {
     "data": {
      "text/plain": [
       "(7200,)"
      ]
     },
     "execution_count": 8,
     "metadata": {},
     "output_type": "execute_result"
    }
   ],
   "source": [
    "dataset['labels'].shape"
   ]
  }
 ],
 "metadata": {
  "kernelspec": {
   "display_name": "Python 3",
   "language": "python",
   "name": "python3"
  },
  "language_info": {
   "codemirror_mode": {
    "name": "ipython",
    "version": 3
   },
   "file_extension": ".py",
   "mimetype": "text/x-python",
   "name": "python",
   "nbconvert_exporter": "python",
   "pygments_lexer": "ipython3",
   "version": "3.6.2"
  }
 },
 "nbformat": 4,
 "nbformat_minor": 2
}
