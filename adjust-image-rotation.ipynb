{
 "cells": [
  {
   "cell_type": "code",
   "execution_count": 1,
   "metadata": {},
   "outputs": [],
   "source": [
    "import numpy as np \n",
    "import math"
   ]
  },
  {
   "cell_type": "code",
   "execution_count": 2,
   "metadata": {},
   "outputs": [],
   "source": [
    "def angle_between(p1, p2):\n",
    "    ang1 = np.arctan2(*p1[::-1])\n",
    "    ang2 = np.arctan2(*p2[::-1])\n",
    "    return np.rad2deg((ang1 - ang2) % (2 * np.pi))"
   ]
  },
  {
   "cell_type": "code",
   "execution_count": 3,
   "metadata": {},
   "outputs": [],
   "source": [
    "def distance(p1, p2):\n",
    "    d_x = p1[0] - p2[0]\n",
    "    d_y = p1[1] - p2[1]\n",
    "    return math.hypot(d_x, d_y)"
   ]
  },
  {
   "cell_type": "code",
   "execution_count": 8,
   "metadata": {},
   "outputs": [],
   "source": [
    "import glob\n",
    "import cv2"
   ]
  },
  {
   "cell_type": "code",
   "execution_count": 123,
   "metadata": {},
   "outputs": [],
   "source": [
    "def get_anchor_points(img):\n",
    "    templates = glob.glob('./data/templates/**/*.png', recursive=True)\n",
    "    for template in templates:\n",
    "        anchor = cv2.imread(template, cv2.IMREAD_GRAYSCALE)\n",
    "        res = cv2.matchTemplate(img, anchor, cv2.TM_CCOEFF_NORMED)\n",
    "        locs = np.where(res >= 0.8)\n",
    "        points = zip(*locs[::-1])\n",
    "        allpoints = []\n",
    "        min_x, min_y = img.shape[::-1]\n",
    "        max_y = 0\n",
    "        for point in points:\n",
    "            valid = True\n",
    "            for v_point in allpoints:\n",
    "                if distance(v_point, point) < 100:\n",
    "                    valid = False\n",
    "            if valid and point[0] < 600:\n",
    "                allpoints.append(point)\n",
    "                if point[0] < min_x:\n",
    "                    min_x = point[0]\n",
    "                if point[1] < min_y:\n",
    "                    min_y = point[1]\n",
    "                if point[1] > max_y:\n",
    "                    max_y = point[1]\n",
    "        \n",
    "        if (len(allpoints) == 2):\n",
    "            return allpoints, min_x, min_y, max_y\n",
    "    \n",
    "    return [], 0, 0, 0"
   ]
  },
  {
   "cell_type": "code",
   "execution_count": 124,
   "metadata": {},
   "outputs": [],
   "source": [
    "from os import path"
   ]
  },
  {
   "cell_type": "code",
   "execution_count": 127,
   "metadata": {},
   "outputs": [],
   "source": [
    "def enframe_image(file):\n",
    "    try:\n",
    "        img = cv2.imread(file, cv2.IMREAD_GRAYSCALE)        \n",
    "        allpoints, min_x, min_y, max_y = get_anchor_points(img)\n",
    "\n",
    "        if len(allpoints) != 2:\n",
    "            print('File invalid:', len(allpoints), file)\n",
    "            return\n",
    "        \n",
    "        points = []\n",
    "        for point in allpoints:\n",
    "            p = (point[0] - min_x, max_y - min_y)\n",
    "            points.append(p)\n",
    "\n",
    "        rows, cols = img.shape\n",
    "        cv2.rectangle(img, (0,0), (cols, rows), (255,255,255), 4)\n",
    "        angle = angle_between(points[1], points[0])        \n",
    "        rotate_m = cv2.getRotationMatrix2D((rows, cols), angle, 1)\n",
    "        img = cv2.warpAffine(img, rotate_m, (cols, rows))\n",
    "        move_m = np.float32([[1,0,-5], [0,1,0]])\n",
    "        img = cv2.warpAffine(img, move_m, (cols, rows))\n",
    "        file = path.split(file)[1]\n",
    "        cv2.imwrite('./data/enframed/{0}'.format(file), img)\n",
    "    except Exception as e:\n",
    "        print(e)        \n",
    "        pass"
   ]
  },
  {
   "cell_type": "code",
   "execution_count": 129,
   "metadata": {},
   "outputs": [
    {
     "name": "stdout",
     "output_type": "stream",
     "text": [
      "File invalid: 0 ./data/raw-splited/template-card-1071_0.png\n",
      "File invalid: 0 ./data/raw-splited/template-card-803_18.png\n",
      "File invalid: 0 ./data/raw-splited/template-card-803_10.png\n",
      "File invalid: 0 ./data/raw-splited/template-card-348_6.png\n",
      "File invalid: 0 ./data/raw-splited/template-card-1062_9.png\n",
      "File invalid: 0 ./data/raw-splited/template-card-1062_5.png\n",
      "File invalid: 0 ./data/raw-splited/template-card-803_2.png\n",
      "File invalid: 0 ./data/raw-splited/template-card-1062_15.png\n",
      "File invalid: 0 ./data/raw-splited/template-card-348_31.png\n",
      "File invalid: 0 ./data/raw-splited/template-card-803_11.png\n",
      "File invalid: 0 ./data/raw-splited/template-card-803_16.png\n",
      "File invalid: 0 ./data/raw-splited/template-card-1062_10.png\n",
      "File invalid: 0 ./data/raw-splited/template-card-623_0.png\n",
      "File invalid: 0 ./data/raw-splited/template-card-1062_12.png\n",
      "File invalid: 0 ./data/raw-splited/template-card-1062_21.png\n",
      "File invalid: 0 ./data/raw-splited/template-card-803_14.png\n",
      "File invalid: 0 ./data/raw-splited/template-card-1062_20.png\n",
      "File invalid: 0 ./data/raw-splited/template-card-803_20.png\n",
      "File invalid: 0 ./data/raw-splited/template-card-1062_8.png\n",
      "File invalid: 0 ./data/raw-splited/template-card-803_24.png\n",
      "File invalid: 0 ./data/raw-splited/template-card-205_0.png\n",
      "File invalid: 0 ./data/raw-splited/template-card-803_12.png\n",
      "File invalid: 0 ./data/raw-splited/template-card-803_9.png\n",
      "File invalid: 0 ./data/raw-splited/template-card-803_13.png\n",
      "File invalid: 0 ./data/raw-splited/template-card-1062_22.png\n",
      "File invalid: 0 ./data/raw-splited/template-card-1062_14.png\n",
      "File invalid: 0 ./data/raw-splited/template-card-1190_0.png\n",
      "File invalid: 0 ./data/raw-splited/template-card-1062_3.png\n",
      "File invalid: 0 ./data/raw-splited/template-card-803_0.png\n",
      "File invalid: 0 ./data/raw-splited/template-card-803_8.png\n",
      "File invalid: 0 ./data/raw-splited/template-card-803_4.png\n",
      "File invalid: 0 ./data/raw-splited/template-card-348_37.png\n",
      "File invalid: 0 ./data/raw-splited/template-card-190_0.png\n",
      "File invalid: 0 ./data/raw-splited/template-card-314_0.png\n",
      "File invalid: 0 ./data/raw-splited/template-card-1102_0.png\n",
      "File invalid: 0 ./data/raw-splited/template-card-279_0.png\n",
      "File invalid: 0 ./data/raw-splited/template-card-348_14.png\n",
      "File invalid: 0 ./data/raw-splited/template-card-803_25.png\n",
      "File invalid: 0 ./data/raw-splited/template-card-1062_0.png\n",
      "File invalid: 0 ./data/raw-splited/template-card-1062_19.png\n",
      "File invalid: 0 ./data/raw-splited/template-card-183_0.png\n",
      "File invalid: 0 ./data/raw-splited/template-card-186_0.png\n",
      "File invalid: 0 ./data/raw-splited/template-card-1062_7.png\n",
      "File invalid: 0 ./data/raw-splited/template-card-803_1.png\n",
      "File invalid: 0 ./data/raw-splited/template-card-1062_6.png\n",
      "File invalid: 0 ./data/raw-splited/template-card-1062_11.png\n",
      "File invalid: 0 ./data/raw-splited/template-card-253_0.png\n",
      "File invalid: 0 ./data/raw-splited/template-card-348_9.png\n",
      "File invalid: 0 ./data/raw-splited/template-card-803_17.png\n",
      "File invalid: 0 ./data/raw-splited/template-card-992_7.png\n",
      "File invalid: 0 ./data/raw-splited/template-card-1062_18.png\n",
      "File invalid: 0 ./data/raw-splited/template-card-803_22.png\n",
      "File invalid: 0 ./data/raw-splited/template-card-184_3.png\n",
      "File invalid: 0 ./data/raw-splited/template-card-348_38.png\n",
      "File invalid: 0 ./data/raw-splited/template-card-803_3.png\n",
      "File invalid: 0 ./data/raw-splited/template-card-1062_13.png\n",
      "File invalid: 0 ./data/raw-splited/template-card-139_0.png\n",
      "File invalid: 0 ./data/raw-splited/template-card-803_19.png\n",
      "File invalid: 0 ./data/raw-splited/template-card-803_7.png\n",
      "File invalid: 0 ./data/raw-splited/template-card-1062_17.png\n",
      "File invalid: 0 ./data/raw-splited/template-card-803_6.png\n",
      "File invalid: 0 ./data/raw-splited/template-card-1062_16.png\n",
      "File invalid: 0 ./data/raw-splited/template-card-1062_2.png\n",
      "File invalid: 0 ./data/raw-splited/template-card-803_21.png\n",
      "File invalid: 0 ./data/raw-splited/template-card-348_33.png\n",
      "File invalid: 0 ./data/raw-splited/template-card-1062_4.png\n",
      "File invalid: 0 ./data/raw-splited/template-card-803_5.png\n",
      "File invalid: 0 ./data/raw-splited/template-card-803_15.png\n",
      "File invalid: 0 ./data/raw-splited/template-card-803_23.png\n",
      "File invalid: 0 ./data/raw-splited/template-card-1107_0.png\n",
      "File invalid: 0 ./data/raw-splited/template-card-1062_1.png\n"
     ]
    }
   ],
   "source": [
    "files = glob.glob('./data/raw-splited/**/*.png', recursive=True)  \n",
    "for file in files:\n",
    "    ck_file = path.split(file)[1]\n",
    "    if path.isfile('./data/enframed/{0}'.format(ck_file)):\n",
    "        continue\n",
    "    enframe_image(file)"
   ]
  },
  {
   "cell_type": "code",
   "execution_count": null,
   "metadata": {},
   "outputs": [],
   "source": []
  }
 ],
 "metadata": {
  "kernelspec": {
   "display_name": "Python 3",
   "language": "python",
   "name": "python3"
  },
  "language_info": {
   "codemirror_mode": {
    "name": "ipython",
    "version": 3
   },
   "file_extension": ".py",
   "mimetype": "text/x-python",
   "name": "python",
   "nbconvert_exporter": "python",
   "pygments_lexer": "ipython3",
   "version": "3.6.4"
  }
 },
 "nbformat": 4,
 "nbformat_minor": 2
}
