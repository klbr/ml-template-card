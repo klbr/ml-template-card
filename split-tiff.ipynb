{
 "cells": [
  {
   "cell_type": "code",
   "execution_count": 14,
   "metadata": {},
   "outputs": [],
   "source": [
    "from PIL import Image\n",
    "import glob"
   ]
  },
  {
   "cell_type": "code",
   "execution_count": 21,
   "metadata": {},
   "outputs": [],
   "source": [
    "files = glob.glob('./data/raw/**/*.tif', recursive=True)"
   ]
  },
  {
   "cell_type": "code",
   "execution_count": 29,
   "metadata": {},
   "outputs": [
    {
     "name": "stdout",
     "output_type": "stream",
     "text": [
      "cannot identify image file './data/raw/321_S116AV/321_s116av_0904095558_2_dia_carto_resposta_unidade_morumbi_.tif'\n"
     ]
    }
   ],
   "source": [
    "file_n = 1\n",
    "for file in files:\n",
    "    try:\n",
    "        tiff = Image.open(file)\n",
    "        tiff.load()\n",
    "        for i in range(tiff.n_frames):\n",
    "            tiff.seek(i)\n",
    "            tiff.save('./data/raw-splited/template-card-{0}_{1}.png'.format(file_n, i), \"PNG\")\n",
    "        file_n += 1\n",
    "    except Exception as e:\n",
    "        print(e)\n",
    "        pass"
   ]
  }
 ],
 "metadata": {
  "kernelspec": {
   "display_name": "Python 3",
   "language": "python",
   "name": "python3"
  },
  "language_info": {
   "codemirror_mode": {
    "name": "ipython",
    "version": 3
   },
   "file_extension": ".py",
   "mimetype": "text/x-python",
   "name": "python",
   "nbconvert_exporter": "python",
   "pygments_lexer": "ipython3",
   "version": "3.6.2"
  }
 },
 "nbformat": 4,
 "nbformat_minor": 2
}
